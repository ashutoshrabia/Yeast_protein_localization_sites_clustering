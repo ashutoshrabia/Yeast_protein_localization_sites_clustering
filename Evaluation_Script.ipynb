{
 "cells": [
  {
   "cell_type": "code",
   "execution_count": null,
   "id": "ce38497e-6eef-47c5-89a3-4e233aef2065",
   "metadata": {},
   "outputs": [],
   "source": [
    "import pandas as pd\n",
    "from sklearn.metrics import (\n",
    "    silhouette_score,\n",
    "    calinski_harabasz_score,\n",
    "    davies_bouldin_score,\n",
    ")\n",
    "from sklearn.preprocessing import StandardScaler\n",
    "from sklearn.cluster import KMeans\n",
    "\n",
    "test_path = \"yeast_test.csv\"\n",
    "\n",
    "# Load Data\n",
    "def load_data(test_path):\n",
    "    test_data = pd.read_csv(test_path)\n",
    "    X_test = test_data.drop(columns=[\"Sequence Name\"], errors='ignore')\n",
    "    return X_test\n",
    "\n",
    "# Preprocess Data\n",
    "def preprocess_data(X_test):\n",
    "    scaler = StandardScaler()\n",
    "    X_test_scaled = scaler.fit_transform(X_test)\n",
    "    return pd.DataFrame(X_test_scaled, columns=X_test.columns), scaler\n",
    "\n",
    "X_test = load_data(test_path)\n",
    "X_test_scaled, scaler = preprocess_data(X_test)\n",
    "\n",
    "# Fit model\n",
    "kmeans = KMeans(n_clusters=8, random_state=42, n_init=20)\n",
    "kmeans.fit(X_test_scaled)\n",
    "cluster_labels = kmeans.labels_\n",
    "cluster_centers = kmeans.cluster_centers_\n",
    "\n",
    "# Calculate Scores\n",
    "silhouette = silhouette_score(X_test_scaled, kmeans.labels_)\n",
    "calinski_harabasz = calinski_harabasz_score(X_test_scaled, kmeans.labels_)\n",
    "davies_bouldin = davies_bouldin_score(X_test_scaled, kmeans.labels_)\n",
    "\n",
    "print(f\"Silhouette Score: {silhouette:.4f}\")\n",
    "print(f\"Calinski-Harabasz Score: {calinski_harabasz:.4f}\")\n",
    "print(f\"Davies-Bouldin Score: {davies_bouldin:.4f}\")"
   ]
  }
 ],
 "metadata": {
  "kernelspec": {
   "display_name": "Python 3 (ipykernel)",
   "language": "python",
   "name": "python3"
  },
  "language_info": {
   "codemirror_mode": {
    "name": "ipython",
    "version": 3
   },
   "file_extension": ".py",
   "mimetype": "text/x-python",
   "name": "python",
   "nbconvert_exporter": "python",
   "pygments_lexer": "ipython3",
   "version": "3.12.4"
  }
 },
 "nbformat": 4,
 "nbformat_minor": 5
}
